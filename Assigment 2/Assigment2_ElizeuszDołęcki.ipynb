{
 "cells": [
  {
   "cell_type": "code",
   "execution_count": 1,
   "id": "f860eb97",
   "metadata": {},
   "outputs": [],
   "source": [
    "import numpy as np \n",
    "from sympy import *"
   ]
  },
  {
   "cell_type": "code",
   "execution_count": 2,
   "id": "00f22aa4",
   "metadata": {},
   "outputs": [],
   "source": [
    "A = np.array([[10,1,-1,8],[0,0,3,0],[1,2,4,1],[1,3,-5,8]])\n",
    "B = np.array([[1,2,2,-1],[1,1,-1,1],[0,-1,-3,2]])\n",
    "C = np.array([[1,2,1],[-1,1,2],[-1,0,-3]])\n",
    "#1a"
   ]
  },
  {
   "cell_type": "code",
   "execution_count": 3,
   "id": "2dff2adb",
   "metadata": {},
   "outputs": [],
   "source": [
    "D = A[1:4]\n",
    "#1b"
   ]
  },
  {
   "cell_type": "code",
   "execution_count": 4,
   "id": "4c89a31e",
   "metadata": {},
   "outputs": [
    {
     "name": "stdout",
     "output_type": "stream",
     "text": [
      "That's impossible\n"
     ]
    }
   ],
   "source": [
    "try:\n",
    "    F=A*D\n",
    "except Exception:\n",
    "    print(\"That's impossible\")\n",
    "#1c"
   ]
  },
  {
   "cell_type": "code",
   "execution_count": 5,
   "id": "e2ec42fc",
   "metadata": {},
   "outputs": [
    {
     "data": {
      "text/plain": [
       "array([[ 0,  1,  1],\n",
       "       [ 0,  2,  3],\n",
       "       [ 3,  4, -5],\n",
       "       [ 0,  1,  8]])"
      ]
     },
     "execution_count": 5,
     "metadata": {},
     "output_type": "execute_result"
    }
   ],
   "source": [
    "DT = np.transpose(D)\n",
    "DT\n",
    "#1c"
   ]
  },
  {
   "cell_type": "code",
   "execution_count": 6,
   "id": "4f27148d",
   "metadata": {},
   "outputs": [
    {
     "data": {
      "text/plain": [
       "array([[10.,  1., -1.,  8.],\n",
       "       [ 0.,  0.,  3.,  0.],\n",
       "       [ 1.,  2.,  4.,  1.],\n",
       "       [ 1.,  3., -5.,  8.]])"
      ]
     },
     "execution_count": 6,
     "metadata": {},
     "output_type": "execute_result"
    }
   ],
   "source": [
    "Id = np.identity(4)\n",
    "G=np.dot(A,Id)\n",
    "G\n",
    "#1c"
   ]
  },
  {
   "cell_type": "code",
   "execution_count": 7,
   "id": "81859cdc",
   "metadata": {},
   "outputs": [
    {
     "data": {
      "text/plain": [
       "2"
      ]
     },
     "execution_count": 7,
     "metadata": {},
     "output_type": "execute_result"
    }
   ],
   "source": [
    "Br = np.linalg.matrix_rank(B)\n",
    "Br\n",
    "#1d"
   ]
  },
  {
   "cell_type": "code",
   "execution_count": 8,
   "id": "7da385dd",
   "metadata": {},
   "outputs": [],
   "source": [
    "try:\n",
    "    np.linalg.inv(C)\n",
    "except:\n",
    "    print(\"That's impossible\")\n",
    "#1e"
   ]
  },
  {
   "cell_type": "code",
   "execution_count": 20,
   "id": "2f6480ca",
   "metadata": {},
   "outputs": [
    {
     "data": {
      "text/plain": [
       "array(['02Albacete', '03Alicante/Alacant', '04Almería', '01Araba/Álava',\n",
       "       '33Asturias', '05Ávila', '06Badajoz', '07Balears,Illes',\n",
       "       '08Barcelona', '48Bizkaia', '09Burgos', '10Cáceres', '11Cádiz',\n",
       "       '39Cantabria', '12Castellón/Castelló', '13CiudadReal', '14Córdoba',\n",
       "       '15Coruña,A', '16Cuenca', '20Gipuzkoa', '17Girona', '18Granada',\n",
       "       '19Guadalajara', '21Huelva', '22Huesca', '23Jaén', '24León',\n",
       "       '25Lleida', '27Lugo', '28Madrid', '29Málaga', '30Murcia',\n",
       "       '31Navarra', '32Ourense', '34Palencia', '35Palmas,Las',\n",
       "       '36Pontevedra', '26Rioja,La', '37Salamanca',\n",
       "       '38SantaCruzdeTenerife', '40Segovia', '41Sevilla', '42Soria',\n",
       "       '43Tarragona', '44Teruel', '45Toledo', '46Valencia/València',\n",
       "       '47Valladolid', '49Zamora', '50Zaragoza', '51Ceuta', '52Melilla'],\n",
       "      dtype='<U21')"
      ]
     },
     "execution_count": 20,
     "metadata": {},
     "output_type": "execute_result"
    }
   ],
   "source": [
    "Province = ['02Albacete','03Alicante/Alacant','04Almería','01Araba/Álava','33Asturias','05Ávila','06Badajoz','07Balears,Illes','08Barcelona','48Bizkaia','09Burgos','10Cáceres','11Cádiz','39Cantabria','12Castellón/Castelló','13CiudadReal','14Córdoba','15Coruña,A','16Cuenca','20Gipuzkoa','17Girona','18Granada','19Guadalajara','21Huelva','22Huesca','23Jaén','24León','25Lleida','27Lugo','28Madrid','29Málaga','30Murcia','31Navarra','32Ourense','34Palencia','35Palmas,Las','36Pontevedra','26Rioja,La','37Salamanca','38SantaCruzdeTenerife','40Segovia','41Sevilla','42Soria','43Tarragona','44Teruel','45Toledo','46Valencia/València','47Valladolid','49Zamora','50Zaragoza','51Ceuta','52Melilla']\n",
    "np.array(Province)"
   ]
  },
  {
   "cell_type": "code",
   "execution_count": 21,
   "id": "fd41833f",
   "metadata": {},
   "outputs": [
    {
     "data": {
      "text/plain": [
       "array([ 387735, 1904362,  723899,  329856, 1006193,  159062,  667000,\n",
       "       1223961, 5641485, 1133833,  353021,  386302, 1259339,  584407,\n",
       "        578506,  489950,  777414, 1120185,  198842,  713583,  776944,\n",
       "        929968,  266471,  532865,  222329,  622617,  452219,  437260,\n",
       "        324419, 6769113, 1711693, 1522640,  659232,  304104,  157340,\n",
       "       1153633,  942849,  315896,  326506, 1098831,  153812, 1960257,\n",
       "         89176,  823721,  133118,  707078, 2589308,  517758,  167846,\n",
       "        959140,   82533,   83196])"
      ]
     },
     "execution_count": 21,
     "metadata": {},
     "output_type": "execute_result"
    }
   ],
   "source": [
    "Population = [387735, 1904362, 723899, 329856, 1006193, 159062, 667000, 1223961, 5641485, 1133833, 353021, 386302, 1259339, 584407, 578506, 489950, 777414, 1120185, 198842, 713583, 776944, 929968, 266471, 532865, 222329, 622617, 452219, 437260, 324419, 6769113, 1711693, 1522640, 659232, 304104, 157340, 1153633, 942849, 315896, 326506, 1098831, 153812, 1960257, 89176, 823721, 133118, 707078, 2589308, 517758, 167846, 959140, 82533, 83196]\n",
    "np.array(Population)\n",
    "#2a"
   ]
  },
  {
   "cell_type": "code",
   "execution_count": 11,
   "id": "ec4e2d0b",
   "metadata": {},
   "outputs": [],
   "source": [
    "Over = []"
   ]
  },
  {
   "cell_type": "code",
   "execution_count": 12,
   "id": "cdb3136e",
   "metadata": {},
   "outputs": [],
   "source": [
    " Pop = np.argwhere(Population>1000000)"
   ]
  },
  {
   "cell_type": "code",
   "execution_count": 13,
   "id": "1e915d78",
   "metadata": {},
   "outputs": [],
   "source": [
    "for x in Pop:\n",
    "    Over.append(Province[x])"
   ]
  },
  {
   "cell_type": "code",
   "execution_count": 14,
   "id": "5f33636c",
   "metadata": {},
   "outputs": [],
   "source": [
    "Over = np.array(Over)"
   ]
  },
  {
   "cell_type": "code",
   "execution_count": 15,
   "id": "d26cfd49",
   "metadata": {},
   "outputs": [
    {
     "data": {
      "text/plain": [
       "array([['03Alicante/Alacant'],\n",
       "       ['33Asturias'],\n",
       "       ['07Balears,Illes'],\n",
       "       ['08Barcelona'],\n",
       "       ['48Bizkaia'],\n",
       "       ['11Cádiz'],\n",
       "       ['15Coruña,A'],\n",
       "       ['28Madrid'],\n",
       "       ['29Málaga'],\n",
       "       ['30Murcia'],\n",
       "       ['35Palmas,Las'],\n",
       "       ['38SantaCruzdeTenerife'],\n",
       "       ['41Sevilla'],\n",
       "       ['46Valencia/València']], dtype='<U21')"
      ]
     },
     "execution_count": 15,
     "metadata": {},
     "output_type": "execute_result"
    }
   ],
   "source": [
    "Over \n",
    "#2b"
   ]
  },
  {
   "cell_type": "code",
   "execution_count": 16,
   "id": "9c802286",
   "metadata": {},
   "outputs": [
    {
     "name": "stdout",
     "output_type": "stream",
     "text": [
      "This is incompatible system\n"
     ]
    }
   ],
   "source": [
    "P = np.array([[1,2,-1],[0,2,3],[-1,0,4]])\n",
    "S = np.array([2,-1,-1])\n",
    "try:\n",
    "    X2 = np.linalg.solve(P,S)\n",
    "except Exception:\n",
    "    R=np.array([[1,2,-1,2],[0,2,3,-1],[-1,0,4,-1]])\n",
    "    if np.linalg.matrix_rank(P, tol=None, hermitian=False) == np.linalg.matrix_rank(R, tol=None, hermitian=False):\n",
    "        print(\"There's infinity numbers of solutions\")\n",
    "    else:\n",
    "        print(\"This is incompatible system\")  \n",
    "#3"
   ]
  },
  {
   "cell_type": "code",
   "execution_count": 17,
   "id": "afe15c75",
   "metadata": {},
   "outputs": [],
   "source": [
    "# y=100L - 0.0004L**2 "
   ]
  },
  {
   "cell_type": "code",
   "execution_count": 18,
   "id": "a3d22dc6",
   "metadata": {},
   "outputs": [],
   "source": [
    "y,L=symbols ('y  L')\n",
    "Pb = 1.65*y - y \n",
    "# 4a\n",
    "y=100*L - 0.0004*L**2\n",
    "diff(y,L)\n",
    "\n",
    "s=solve([diff(y,L)], [L])\n",
    "\n",
    "y_1=100*s[L] - 0.0004*s[L]**2\n",
    "#4b_1"
   ]
  },
  {
   "cell_type": "code",
   "execution_count": 19,
   "id": "9fe1daf1",
   "metadata": {},
   "outputs": [
    {
     "data": {
      "text/latex": [
       "$\\displaystyle 4062500.0$"
      ],
      "text/plain": [
       "4062500.00000000"
      ]
     },
     "execution_count": 19,
     "metadata": {},
     "output_type": "execute_result"
    }
   ],
   "source": [
    "Pb = 1.65 *y_1  - y_1\n",
    "Pb \n",
    "#4b_2"
   ]
  }
 ],
 "metadata": {
  "kernelspec": {
   "display_name": "Python 3 (ipykernel)",
   "language": "python",
   "name": "python3"
  },
  "language_info": {
   "codemirror_mode": {
    "name": "ipython",
    "version": 3
   },
   "file_extension": ".py",
   "mimetype": "text/x-python",
   "name": "python",
   "nbconvert_exporter": "python",
   "pygments_lexer": "ipython3",
   "version": "3.9.12"
  }
 },
 "nbformat": 4,
 "nbformat_minor": 5
}
