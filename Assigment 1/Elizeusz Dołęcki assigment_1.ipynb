{
 "cells": [
  {
   "cell_type": "code",
   "execution_count": 1,
   "id": "fc845537",
   "metadata": {},
   "outputs": [],
   "source": [
    "import pandas as pd "
   ]
  },
  {
   "cell_type": "code",
   "execution_count": 2,
   "id": "3b3584d4",
   "metadata": {},
   "outputs": [],
   "source": [
    "plik_1= pd.read_excel(\"gdp.xlsx\")"
   ]
  },
  {
   "cell_type": "code",
   "execution_count": 3,
   "id": "35bfdfd3",
   "metadata": {},
   "outputs": [],
   "source": [
    "Zone=plik_1[\"Zone\"].tolist()\n",
    "GDP=plik_1[\"GDP\"].tolist()\n",
    "Population= plik_1[\"Population\"].tolist()"
   ]
  },
  {
   "cell_type": "code",
   "execution_count": 4,
   "id": "1a0b9279",
   "metadata": {
    "scrolled": true
   },
   "outputs": [],
   "source": [
    "plik_2 = plik_1.dropna()\n",
    "#1"
   ]
  },
  {
   "cell_type": "code",
   "execution_count": 5,
   "id": "81f8edb5",
   "metadata": {},
   "outputs": [],
   "source": [
    "Zone=plik_2[\"Zone\"].tolist()\n",
    "GDP=plik_2[\"GDP\"].tolist()\n",
    "Population= plik_2[\"Population\"].tolist()  \n",
    "#1"
   ]
  },
  {
   "cell_type": "code",
   "execution_count": 6,
   "id": "1e6b20dd",
   "metadata": {},
   "outputs": [
    {
     "data": {
      "text/plain": [
       "(292, 3)"
      ]
     },
     "execution_count": 6,
     "metadata": {},
     "output_type": "execute_result"
    }
   ],
   "source": [
    "plik_2.shape\n",
    "#2"
   ]
  },
  {
   "cell_type": "code",
   "execution_count": 7,
   "id": "c75148f0",
   "metadata": {},
   "outputs": [
    {
     "name": "stdout",
     "output_type": "stream",
     "text": [
      "['Van, Mus, Bitlis, Hakkari', 'Gaziantep, Adiyaman, Kilis', 'Sanliurfa, Diyarbakir', 'Mardin, Batman, Sirnak, Siirt']\n"
     ]
    }
   ],
   "source": [
    "print(Zone[-4:])\n",
    "#3"
   ]
  },
  {
   "cell_type": "code",
   "execution_count": 8,
   "id": "f2150dfb",
   "metadata": {},
   "outputs": [],
   "source": [
    "plik_2.loc[81:82, ['GDP']] = [9080.51,3154.65]\n",
    "#4"
   ]
  },
  {
   "cell_type": "code",
   "execution_count": 9,
   "id": "5b45b40d",
   "metadata": {},
   "outputs": [],
   "source": [
    "Zone=plik_2[\"Zone\"].tolist()\n",
    "GDP=plik_2[\"GDP\"].tolist()\n",
    "Population= plik_2[\"Population\"].tolist()\n",
    "#4"
   ]
  },
  {
   "cell_type": "code",
   "execution_count": 10,
   "id": "c3b5b0ca",
   "metadata": {},
   "outputs": [],
   "source": [
    "filt = plik_2['Population'] == 0\n",
    "#5"
   ]
  },
  {
   "cell_type": "code",
   "execution_count": 11,
   "id": "61fac063",
   "metadata": {},
   "outputs": [],
   "source": [
    "plik_2 = plik_2.drop(index=plik_2[filt].index)\n",
    "#5"
   ]
  },
  {
   "cell_type": "code",
   "execution_count": 12,
   "id": "f39e5f2b",
   "metadata": {},
   "outputs": [],
   "source": [
    "Zone=plik_2[\"Zone\"].tolist()\n",
    "GDP=plik_2[\"GDP\"].tolist()\n",
    "Population= plik_2[\"Population\"].tolist()\n",
    "#5"
   ]
  },
  {
   "cell_type": "code",
   "execution_count": 13,
   "id": "54e9abe7",
   "metadata": {},
   "outputs": [
    {
     "name": "stdout",
     "output_type": "stream",
     "text": [
      "15177226.740000006\n"
     ]
    }
   ],
   "source": [
    "suma=0\n",
    "for x in GDP:\n",
    "    suma=suma+x\n",
    "print(suma)\n",
    "#6 the score is in milions"
   ]
  },
  {
   "cell_type": "code",
   "execution_count": 14,
   "id": "97a84b5d",
   "metadata": {},
   "outputs": [],
   "source": [
    "P=[]\n",
    "for x, y in zip(GDP, Population):\n",
    "    c= float(x)/float(y)\n",
    "    P.append(c)\n",
    "#7"
   ]
  },
  {
   "cell_type": "code",
   "execution_count": 15,
   "id": "0bd3ec60",
   "metadata": {},
   "outputs": [
    {
     "data": {
      "text/plain": [
       "3.122854796990544"
      ]
     },
     "execution_count": 15,
     "metadata": {},
     "output_type": "execute_result"
    }
   ],
   "source": [
    "min(P)\n",
    "#7"
   ]
  },
  {
   "cell_type": "code",
   "execution_count": 16,
   "id": "7fa14711",
   "metadata": {},
   "outputs": [
    {
     "name": "stdout",
     "output_type": "stream",
     "text": [
      "['Hovedstaden', 'Stuttgart', 'Karlsruhe', 'Oberbayern', 'Berlin', 'Hamburg', 'Darmstadt', 'Düsseldorf', 'Köln', 'Arnsberg', 'Southern', 'Eastern and Midland', 'Comunidad de Madrid', 'Cataluña', 'Comunitat Valenciana', 'Andalucía', 'Île de France', 'Nord-Pas-de-Calais', 'Pays-de-la-Loire', 'Aquitaine', 'Rhône-Alpes', \"Provence-Alpes-Côte d'Azur\", 'Piemonte', 'Lombardia', 'Veneto', 'Emilia-Romagna', 'Toscana', 'Lazio', 'Campania', 'Noord-Holland', 'Zuid-Holland', 'Noord-Brabant', 'Stockholm', 'Oslo og Viken', 'Région lémanique', 'Espace Mittelland', 'Zürich', 'Istanbul']\n"
     ]
    }
   ],
   "source": [
    "over = []\n",
    "for a in GDP:\n",
    "    if a > 100000:\n",
    "        b = GDP.index(a)\n",
    "        over.append(Zone[b])\n",
    "print(over)\n",
    "#8"
   ]
  }
 ],
 "metadata": {
  "kernelspec": {
   "display_name": "Python 3 (ipykernel)",
   "language": "python",
   "name": "python3"
  },
  "language_info": {
   "codemirror_mode": {
    "name": "ipython",
    "version": 3
   },
   "file_extension": ".py",
   "mimetype": "text/x-python",
   "name": "python",
   "nbconvert_exporter": "python",
   "pygments_lexer": "ipython3",
   "version": "3.9.12"
  }
 },
 "nbformat": 4,
 "nbformat_minor": 5
}
